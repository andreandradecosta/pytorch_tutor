{
  "nbformat": 4,
  "nbformat_minor": 0,
  "metadata": {
    "colab": {
      "name": "nn.ipynb",
      "version": "0.3.2",
      "provenance": [],
      "collapsed_sections": []
    },
    "kernelspec": {
      "name": "python3",
      "display_name": "Python 3"
    },
    "accelerator": "GPU"
  },
  "cells": [
    {
      "metadata": {
        "id": "RJe49tOjHWZP",
        "colab_type": "code",
        "colab": {}
      },
      "cell_type": "code",
      "source": [
        ""
      ],
      "execution_count": 0,
      "outputs": []
    },
    {
      "metadata": {
        "id": "UHWZxPi-pXIa",
        "colab_type": "code",
        "colab": {}
      },
      "cell_type": "code",
      "source": [
        "# http://pytorch.org/\n",
        "from os.path import exists\n",
        "from wheel.pep425tags import get_abbr_impl, get_impl_ver, get_abi_tag\n",
        "platform = '{}{}-{}'.format(get_abbr_impl(), get_impl_ver(), get_abi_tag())\n",
        "cuda_output = !ldconfig -p|grep cudart.so|sed -e 's/.*\\.\\([0-9]*\\)\\.\\([0-9]*\\)$/cu\\1\\2/'\n",
        "accelerator = cuda_output[0] if exists('/dev/nvidia0') else 'cpu'\n",
        "\n",
        "!pip install -q http://download.pytorch.org/whl/{accelerator}/torch-0.4.1-{platform}-linux_x86_64.whl torchvision"
      ],
      "execution_count": 0,
      "outputs": []
    },
    {
      "metadata": {
        "id": "9xs7mIR0GQmr",
        "colab_type": "code",
        "colab": {}
      },
      "cell_type": "code",
      "source": [
        "import torch\n",
        "import torch.nn as nn\n",
        "import torch.optim as optim\n",
        "import torch.nn.functional as F"
      ],
      "execution_count": 0,
      "outputs": []
    },
    {
      "metadata": {
        "id": "qJhUPtyO1L47",
        "colab_type": "code",
        "colab": {
          "base_uri": "https://localhost:8080/",
          "height": 34
        },
        "outputId": "98343bc5-8611-48ed-9dfe-940da7266967"
      },
      "cell_type": "code",
      "source": [
        "torch.cuda.is_available(), torch.cuda.device_count()"
      ],
      "execution_count": 3,
      "outputs": [
        {
          "output_type": "execute_result",
          "data": {
            "text/plain": [
              "(True, 1)"
            ]
          },
          "metadata": {
            "tags": []
          },
          "execution_count": 3
        }
      ]
    },
    {
      "metadata": {
        "id": "qA917EYVCd8f",
        "colab_type": "code",
        "colab": {}
      },
      "cell_type": "code",
      "source": [
        "class Net(nn.Module):\n",
        "    def __init__(self):\n",
        "        super(Net, self).__init__()\n",
        "        self.fc = nn.Linear(1000, 100)\n",
        "        self.out = nn.Linear(100, 10)\n",
        "    \n",
        "    def forward(self, x):\n",
        "        y = F.relu(self.fc(x))\n",
        "        y = self.out(y)\n",
        "        return y"
      ],
      "execution_count": 0,
      "outputs": []
    },
    {
      "metadata": {
        "id": "4BfBAeywIycO",
        "colab_type": "code",
        "colab": {}
      },
      "cell_type": "code",
      "source": [
        "model = Net()\n",
        "criterion = nn.MSELoss()\n",
        "optimizer = optim.Adam(model.parameters(), lr=1e-4)"
      ],
      "execution_count": 0,
      "outputs": []
    },
    {
      "metadata": {
        "id": "geCLtpa0Jw8o",
        "colab_type": "code",
        "colab": {
          "base_uri": "https://localhost:8080/",
          "height": 867
        },
        "outputId": "2b1266c5-dacc-47d7-8312-9ed04e693647"
      },
      "cell_type": "code",
      "source": [
        "x = torch.randn(64, 1000)\n",
        "y = torch.randn(64, 10)\n",
        "\n",
        "for e in range(500):\n",
        "    optimizer.zero_grad()\n",
        "    \n",
        "    y_pred = model(x)\n",
        "    \n",
        "    loss = criterion(y_pred, y)\n",
        "    loss.backward()\n",
        "    optimizer.step()\n",
        "    \n",
        "    if e % 10 == 0:\n",
        "        print(e, loss.item())"
      ],
      "execution_count": 6,
      "outputs": [
        {
          "output_type": "stream",
          "text": [
            "0 1.0486783981323242\n",
            "10 0.8110556602478027\n",
            "20 0.6304303407669067\n",
            "30 0.49427613615989685\n",
            "40 0.3861699104309082\n",
            "50 0.29954972863197327\n",
            "60 0.22945170104503632\n",
            "70 0.17337459325790405\n",
            "80 0.1290501356124878\n",
            "90 0.09437929093837738\n",
            "100 0.06770604103803635\n",
            "110 0.04773486405611038\n",
            "120 0.033091671764850616\n",
            "130 0.02261204458773136\n",
            "140 0.015242236666381359\n",
            "150 0.01016843318939209\n",
            "160 0.006748180370777845\n",
            "170 0.004458427429199219\n",
            "180 0.0029327471274882555\n",
            "190 0.0019207154400646687\n",
            "200 0.0012515037087723613\n",
            "210 0.0008125460590235889\n",
            "220 0.000526097952388227\n",
            "230 0.00033915406675077975\n",
            "240 0.00021769042359665036\n",
            "250 0.0001391867990605533\n",
            "260 8.889928722055629e-05\n",
            "270 5.6598517403472215e-05\n",
            "280 3.589153857319616e-05\n",
            "290 2.2658516172668897e-05\n",
            "300 1.4231806744646747e-05\n",
            "310 8.888253432814963e-06\n",
            "320 5.516420969797764e-06\n",
            "330 3.4016752579191234e-06\n",
            "340 2.085585947497748e-06\n",
            "350 1.2692568134298199e-06\n",
            "360 7.660009373466892e-07\n",
            "370 4.5810742221874534e-07\n",
            "380 2.7134561264574586e-07\n",
            "390 1.590914138205335e-07\n",
            "400 9.22696727911898e-08\n",
            "410 5.2915410719833744e-08\n",
            "420 2.999250980906254e-08\n",
            "430 1.6796212420899792e-08\n",
            "440 9.287608015995374e-09\n",
            "450 5.070845077170816e-09\n",
            "460 2.730455417321309e-09\n",
            "470 1.4512139268063606e-09\n",
            "480 7.598384144102965e-10\n",
            "490 3.921150071306556e-10\n"
          ],
          "name": "stdout"
        }
      ]
    }
  ]
}